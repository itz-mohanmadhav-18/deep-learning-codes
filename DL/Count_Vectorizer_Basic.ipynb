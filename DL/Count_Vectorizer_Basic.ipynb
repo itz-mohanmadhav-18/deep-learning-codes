{
  "cells": [
    {
      "cell_type": "code",
      "execution_count": 1,
      "metadata": {
        "id": "eRK4mUS6IQZw"
      },
      "outputs": [],
      "source": [
        "from sklearn.feature_extraction.text import CountVectorizer"
      ]
    },
    {
      "cell_type": "code",
      "execution_count": 2,
      "metadata": {
        "id": "5JULsTBdJEs3"
      },
      "outputs": [],
      "source": [
        "document = [\"Yash is a student.\",\n",
        "            \"He studies in GLA University.\",\n",
        "            \"He is a good student.\"]"
      ]
    },
    {
      "cell_type": "code",
      "execution_count": 3,
      "metadata": {
        "colab": {
          "base_uri": "https://localhost:8080/"
        },
        "id": "8v7v6KxolmqC",
        "outputId": "62ea8fd7-f857-4bb5-e382-844f1e7226b4"
      },
      "outputs": [
        {
          "data": {
            "text/plain": [
              "list"
            ]
          },
          "execution_count": 3,
          "metadata": {},
          "output_type": "execute_result"
        }
      ],
      "source": [
        "type(document)"
      ]
    },
    {
      "cell_type": "code",
      "execution_count": 4,
      "metadata": {
        "id": "U8pcRTEcJRML"
      },
      "outputs": [],
      "source": [
        "cv = CountVectorizer()\n",
        "x = cv.fit_transform(document)"
      ]
    },
    {
      "cell_type": "code",
      "execution_count": 5,
      "metadata": {
        "colab": {
          "base_uri": "https://localhost:8080/"
        },
        "id": "G2lBP9WZJVR3",
        "outputId": "6c463930-db7e-4b07-f3c5-64d1446c7d61"
      },
      "outputs": [
        {
          "name": "stdout",
          "output_type": "stream",
          "text": [
            "Vocabulary:  {'yash': 8, 'is': 4, 'student': 5, 'he': 2, 'studies': 6, 'in': 3, 'gla': 0, 'university': 7, 'good': 1}\n"
          ]
        }
      ],
      "source": [
        "print(\"Vocabulary: \", cv.vocabulary_)"
      ]
    },
    {
      "cell_type": "code",
      "execution_count": 6,
      "metadata": {
        "colab": {
          "base_uri": "https://localhost:8080/",
          "height": 186
        },
        "id": "PEkBI9Crl-jt",
        "outputId": "38c8acec-67cb-491b-a572-5b915f1e0604"
      },
      "outputs": [
        {
          "data": {
            "text/plain": [
              "scipy.sparse._csr.csr_matrix"
            ]
          },
          "execution_count": 6,
          "metadata": {},
          "output_type": "execute_result"
        }
      ],
      "source": [
        "type(x)"
      ]
    },
    {
      "cell_type": "code",
      "execution_count": 7,
      "metadata": {
        "colab": {
          "base_uri": "https://localhost:8080/"
        },
        "id": "6H3Y6TK9JcgY",
        "outputId": "cc629d55-fb64-4610-eb04-6b3195e7e015"
      },
      "outputs": [
        {
          "name": "stdout",
          "output_type": "stream",
          "text": [
            "Encoded Document is:\n",
            "[[0 0 0 0 1 1 0 0 1]\n",
            " [1 0 1 1 0 0 1 1 0]\n",
            " [0 1 1 0 1 1 0 0 0]]\n"
          ]
        }
      ],
      "source": [
        "print(\"Encoded Document is:\")\n",
        "print(x.toarray())"
      ]
    },
    {
      "cell_type": "code",
      "execution_count": null,
      "metadata": {
        "id": "2FpJ2lMQJetM"
      },
      "outputs": [],
      "source": []
    }
  ],
  "metadata": {
    "colab": {
      "provenance": []
    },
    "kernelspec": {
      "display_name": "Python 3",
      "name": "python3"
    },
    "language_info": {
      "codemirror_mode": {
        "name": "ipython",
        "version": 3
      },
      "file_extension": ".py",
      "mimetype": "text/x-python",
      "name": "python",
      "nbconvert_exporter": "python",
      "pygments_lexer": "ipython3",
      "version": "3.11.6"
    }
  },
  "nbformat": 4,
  "nbformat_minor": 0
}
